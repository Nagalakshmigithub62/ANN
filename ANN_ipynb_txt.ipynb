{
  "nbformat": 4,
  "nbformat_minor": 0,
  "metadata": {
    "colab": {
      "provenance": [],
      "include_colab_link": true
    },
    "kernelspec": {
      "name": "python3",
      "display_name": "Python 3"
    },
    "language_info": {
      "name": "python"
    }
  },
  "cells": [
    {
      "cell_type": "markdown",
      "metadata": {
        "id": "view-in-github",
        "colab_type": "text"
      },
      "source": [
        "<a href=\"https://colab.research.google.com/github/Nagalakshmigithub62/ANN/blob/main/ANN_ipynb_txt.ipynb\" target=\"_parent\"><img src=\"https://colab.research.google.com/assets/colab-badge.svg\" alt=\"Open In Colab\"/></a>"
      ]
    },
    {
      "cell_type": "markdown",
      "source": [
        "Import Libraries"
      ],
      "metadata": {
        "id": "dHdOyQEePnOW"
      }
    },
    {
      "cell_type": "code",
      "execution_count": null,
      "metadata": {
        "id": "7dyychci_RAv"
      },
      "outputs": [],
      "source": [
        "import numpy as np\n",
        "import pandas as pd\n",
        "import matplotlib.pyplot as plt\n",
        "import tensorflow as tf\n",
        "import cv2\n",
        "from PIL import Image\n",
        "import os\n",
        "from keras.models import Sequential\n",
        "from keras.layers import Conv2D, MaxPool2D, Dense, Flatten, Dropout\n",
        "from keras.utils import to_categorical"
      ]
    },
    {
      "cell_type": "markdown",
      "source": [
        "Data loading and preprocessing"
      ],
      "metadata": {
        "id": "gimjtAj7P10N"
      }
    },
    {
      "cell_type": "code",
      "source": [
        "from google.colab import drive\n",
        "drive.mount('/content/drive')"
      ],
      "metadata": {
        "colab": {
          "base_uri": "https://localhost:8080/"
        },
        "id": "n18lj-v-jHrm",
        "outputId": "f4139b8a-3d24-4423-caa1-94c4cd0b719e"
      },
      "execution_count": null,
      "outputs": [
        {
          "output_type": "stream",
          "name": "stdout",
          "text": [
            "Mounted at /content/drive\n"
          ]
        }
      ]
    },
    {
      "cell_type": "code",
      "source": [
        "data=[]\n",
        "labels=[]\n",
        "\n",
        "height = 30\n",
        "width = 30\n",
        "channels = 3\n",
        "classes = 43\n",
        "n_inputs = height * width*channels\n",
        "\n",
        "for i in range(classes) :\n",
        "    path = f\"/content/drive/MyDrive/data/Train/{i}/\"\n",
        "    print(path)\n",
        "    Class=os.listdir(path)\n",
        "    for a in Class:\n",
        "        try:\n",
        "            image=cv2.imread(path+a)\n",
        "            image_from_array = Image.fromarray(image, 'RGB')\n",
        "            size_image = image_from_array.resize((height, width))\n",
        "            data.append(np.array(size_image))\n",
        "            labels.append(i)\n",
        "        except AttributeError:\n",
        "            print(\" \")\n",
        "\n",
        "Cells=np.array(data)\n",
        "labels=np.array(labels)\n",
        "\n",
        "s=np.arange(Cells.shape[0])\n",
        "np.random.seed(43)\n",
        "np.random.shuffle(s)\n",
        "Cells=Cells[s]\n",
        "labels=labels[s]"
      ],
      "metadata": {
        "colab": {
          "base_uri": "https://localhost:8080/"
        },
        "id": "DW7AV0bdPyzG",
        "outputId": "3189ffbb-1250-48e7-a341-1ba5850ee198"
      },
      "execution_count": null,
      "outputs": [
        {
          "output_type": "stream",
          "name": "stdout",
          "text": [
            "/content/drive/MyDrive/data/Train/0/\n",
            "/content/drive/MyDrive/data/Train/1/\n",
            "/content/drive/MyDrive/data/Train/2/\n",
            "/content/drive/MyDrive/data/Train/3/\n",
            "/content/drive/MyDrive/data/Train/4/\n",
            "/content/drive/MyDrive/data/Train/5/\n",
            "/content/drive/MyDrive/data/Train/6/\n",
            "/content/drive/MyDrive/data/Train/7/\n",
            "/content/drive/MyDrive/data/Train/8/\n",
            "/content/drive/MyDrive/data/Train/9/\n",
            "/content/drive/MyDrive/data/Train/10/\n",
            "/content/drive/MyDrive/data/Train/11/\n",
            "/content/drive/MyDrive/data/Train/12/\n",
            "/content/drive/MyDrive/data/Train/13/\n",
            "/content/drive/MyDrive/data/Train/14/\n",
            "/content/drive/MyDrive/data/Train/15/\n",
            "/content/drive/MyDrive/data/Train/16/\n",
            "/content/drive/MyDrive/data/Train/17/\n",
            "/content/drive/MyDrive/data/Train/18/\n",
            "/content/drive/MyDrive/data/Train/19/\n",
            "/content/drive/MyDrive/data/Train/20/\n",
            "/content/drive/MyDrive/data/Train/21/\n",
            "/content/drive/MyDrive/data/Train/22/\n",
            "/content/drive/MyDrive/data/Train/23/\n",
            "/content/drive/MyDrive/data/Train/24/\n",
            "/content/drive/MyDrive/data/Train/25/\n",
            "/content/drive/MyDrive/data/Train/26/\n",
            "/content/drive/MyDrive/data/Train/27/\n",
            "/content/drive/MyDrive/data/Train/28/\n",
            "/content/drive/MyDrive/data/Train/29/\n",
            "/content/drive/MyDrive/data/Train/30/\n",
            "/content/drive/MyDrive/data/Train/31/\n",
            "/content/drive/MyDrive/data/Train/32/\n",
            "/content/drive/MyDrive/data/Train/33/\n",
            "/content/drive/MyDrive/data/Train/34/\n",
            "/content/drive/MyDrive/data/Train/35/\n",
            "/content/drive/MyDrive/data/Train/36/\n",
            "/content/drive/MyDrive/data/Train/37/\n",
            "/content/drive/MyDrive/data/Train/38/\n",
            "/content/drive/MyDrive/data/Train/39/\n",
            "/content/drive/MyDrive/data/Train/40/\n",
            "/content/drive/MyDrive/data/Train/41/\n",
            "/content/drive/MyDrive/data/Train/42/\n"
          ]
        }
      ]
    },
    {
      "cell_type": "markdown",
      "source": [
        "Data splitting"
      ],
      "metadata": {
        "id": "ChejGWm6P7pm"
      }
    },
    {
      "cell_type": "code",
      "source": [
        "(X_train,X_val)=Cells[(int)(0.2*len(labels)):],Cells[:(int)(0.2*len(labels))]\n",
        "X_train = X_train.astype('float32')/255\n",
        "X_val = X_val.astype('float32')/255\n",
        "(y_train,y_val)=labels[(int)(0.2*len(labels)):],labels[:(int)(0.2*len(labels))]"
      ],
      "metadata": {
        "id": "isG6p7g_QBpf"
      },
      "execution_count": null,
      "outputs": []
    },
    {
      "cell_type": "markdown",
      "source": [
        "One-Hot Encoding"
      ],
      "metadata": {
        "id": "YCZh2DrLQGm-"
      }
    },
    {
      "cell_type": "code",
      "source": [
        "y_train = to_categorical(y_train, 43)\n",
        "y_val = to_categorical(y_val, 43)"
      ],
      "metadata": {
        "id": "4-P4Rs7hQGKu"
      },
      "execution_count": null,
      "outputs": []
    },
    {
      "cell_type": "markdown",
      "source": [
        "CNN model"
      ],
      "metadata": {
        "id": "UXR5Jef3QM7l"
      }
    },
    {
      "cell_type": "code",
      "source": [
        "model = Sequential()\n",
        "model.add(Conv2D(filters=32, kernel_size=(5,5), activation='relu', input_shape=X_train.shape[1:]))\n",
        "model.add(Conv2D(filters=64, kernel_size=(3, 3), activation='relu'))\n",
        "model.add(MaxPool2D(pool_size=(2, 2)))\n",
        "model.add(Dropout(rate=0.25))\n",
        "model.add(Conv2D(filters=64, kernel_size=(3, 3), activation='relu'))\n",
        "model.add(MaxPool2D(pool_size=(2, 2)))\n",
        "model.add(Dropout(rate=0.25))\n",
        "model.add(Flatten())\n",
        "model.add(Dense(256, activation='relu'))\n",
        "model.add(Dropout(rate=0.5))\n",
        "model.add(Dense(43, activation='softmax'))\n",
        "\n",
        "model.compile(\n",
        "    loss='categorical_crossentropy',\n",
        "    optimizer='adam',\n",
        "    metrics=['accuracy']\n",
        ")"
      ],
      "metadata": {
        "id": "C2v4N4juQSA9"
      },
      "execution_count": null,
      "outputs": []
    },
    {
      "cell_type": "markdown",
      "source": [
        "Model training"
      ],
      "metadata": {
        "id": "2lt0M0VjQZWu"
      }
    },
    {
      "cell_type": "code",
      "source": [
        "epochs = 5\n",
        "history = model.fit(X_train, y_train, batch_size=32, epochs=epochs,\n",
        "validation_data=(X_val, y_val))"
      ],
      "metadata": {
        "id": "kYmADEm3QdF1",
        "colab": {
          "base_uri": "https://localhost:8080/"
        },
        "outputId": "32f8aded-e37e-477f-a516-a7dfeb334345"
      },
      "execution_count": null,
      "outputs": [
        {
          "output_type": "stream",
          "name": "stdout",
          "text": [
            "Epoch 1/5\n",
            "751/751 [==============================] - 102s 133ms/step - loss: 1.3178 - accuracy: 0.6192 - val_loss: 0.1789 - val_accuracy: 0.9639\n",
            "Epoch 2/5\n",
            "751/751 [==============================] - 94s 125ms/step - loss: 0.2411 - accuracy: 0.9265 - val_loss: 0.0595 - val_accuracy: 0.9867\n",
            "Epoch 3/5\n",
            "751/751 [==============================] - 95s 126ms/step - loss: 0.1349 - accuracy: 0.9590 - val_loss: 0.0318 - val_accuracy: 0.9947\n",
            "Epoch 4/5\n",
            "751/751 [==============================] - 95s 126ms/step - loss: 0.0960 - accuracy: 0.9705 - val_loss: 0.0307 - val_accuracy: 0.9942\n",
            "Epoch 5/5\n",
            "751/751 [==============================] - 94s 125ms/step - loss: 0.0775 - accuracy: 0.9757 - val_loss: 0.0202 - val_accuracy: 0.9967\n"
          ]
        }
      ]
    },
    {
      "cell_type": "markdown",
      "source": [
        "Display of the accuracy values"
      ],
      "metadata": {
        "id": "gg-6TLozQf34"
      }
    },
    {
      "cell_type": "code",
      "source": [
        "plt.figure(0)\n",
        "plt.plot(history.history['accuracy'], label='training accuracy')\n",
        "plt.plot(history.history['val_accuracy'], label='val accuracy')\n",
        "plt.title('Accuracy')\n",
        "plt.xlabel('epochs')\n",
        "plt.ylabel('accuracy')\n",
        "plt.legend()"
      ],
      "metadata": {
        "id": "FeO6hUMNQjnt",
        "colab": {
          "base_uri": "https://localhost:8080/",
          "height": 489
        },
        "outputId": "4388e547-42fc-4c05-d459-ce85a0e0a8a0"
      },
      "execution_count": null,
      "outputs": [
        {
          "output_type": "execute_result",
          "data": {
            "text/plain": [
              "<matplotlib.legend.Legend at 0x78bdcc376920>"
            ]
          },
          "metadata": {},
          "execution_count": 10
        },
        {
          "output_type": "display_data",
          "data": {
            "text/plain": [
              "<Figure size 640x480 with 1 Axes>"
            ],
            "image/png": "[encoded data removed]"
          },
          "metadata": {}
        }
      ]
    },
    {
      "cell_type": "markdown",
      "source": [
        "Display of the loss values"
      ],
      "metadata": {
        "id": "_wpbqdU5Qnjt"
      }
    },
    {
      "cell_type": "code",
      "source": [
        "plt.figure(0)\n",
        "plt.plot(history.history['accuracy'], label='training accuracy')\n",
        "plt.plot(history.history['val_accuracy'], label='val accuracy')\n",
        "plt.title('Accuracy')\n",
        "plt.xlabel('epochs')\n",
        "plt.ylabel('accuracy')\n",
        "plt.legend()"
      ],
      "metadata": {
        "id": "l84Ul10zQt48",
        "colab": {
          "base_uri": "https://localhost:8080/",
          "height": 489
        },
        "outputId": "c87663d6-ef7a-4e3c-a87d-cd48b86428b1"
      },
      "execution_count": null,
      "outputs": [
        {
          "output_type": "execute_result",
          "data": {
            "text/plain": [
              "<matplotlib.legend.Legend at 0x78bdcdfd5db0>"
            ]
          },
          "metadata": {},
          "execution_count": 11
        },
        {
          "output_type": "display_data",
          "data": {
            "text/plain": [
              "<Figure size 640x480 with 1 Axes>"
            ],
            "image/png": "[encoded data removed]"
          },
          "metadata": {}
        }
      ]
    },
    {
      "cell_type": "code",
      "source": [],
      "metadata": {
        "id": "sf3mEpGPtdyJ"
      },
      "execution_count": null,
      "outputs": []
    }
  ]
}